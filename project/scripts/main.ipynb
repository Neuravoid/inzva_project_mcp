{
 "cells": [
  {
   "cell_type": "code",
   "execution_count": null,
   "id": "b7f33896",
   "metadata": {},
   "outputs": [],
   "source": [
    "# Çalışma yolu: ...\\project\\scripts\n",
    "import sys\n",
    "from pathlib import Path\n",
    "\n",
    "# 'scripts' klasörünü import yoluna ekle\n",
    "sys.path.insert(0, str(Path.cwd()))\n",
    "\n",
    "from src.main.workflow import WorkflowEngine\n",
    "from src.agents.utils import open_client\n",
    "from src.database.state_store import StateStore  # düzeltildi\n",
    "from src.main.model import LLMInterface\n",
    "import uuid\n",
    "session_id = str(uuid.uuid4())"
   ]
  },
  {
   "cell_type": "code",
   "execution_count": null,
   "id": "e0dfa1dc",
   "metadata": {},
   "outputs": [],
   "source": [
    "client = open_client()\n",
    "llm_interface = LLMInterface()\n",
    "workflow_engine = WorkflowEngine(llm_interface=llm_interface, client_session=client, data_store=StateStore(), session_id=session_id)"
   ]
  },
  {
   "cell_type": "code",
   "execution_count": null,
   "id": "b5134fa6",
   "metadata": {},
   "outputs": [],
   "source": [
    "workflow_engine.process(\"Analyze sales data for Q1 2023 and generate a report.\")"
   ]
  },
  {
   "cell_type": "code",
   "execution_count": null,
   "id": "98c6727c",
   "metadata": {},
   "outputs": [],
   "source": [
    "class Example:\n",
    "    def __init__(self):\n",
    "        self._value = None\n",
    "    \n",
    "    @property\n",
    "    def value(self):  # Bu bir metod\n",
    "        if self._value is None:\n",
    "            self._value = \"lazy loaded\"\n",
    "        return self._value\n",
    "\n",
    "# Kullanım:\n",
    "obj = Example()\n",
    "print(obj.value)  # Parantez yok! obj.value() değil"
   ]
  }
 ],
 "metadata": {
  "kernelspec": {
   "display_name": "project_env",
   "language": "python",
   "name": "python3"
  },
  "language_info": {
   "codemirror_mode": {
    "name": "ipython",
    "version": 3
   },
   "file_extension": ".py",
   "mimetype": "text/x-python",
   "name": "python",
   "nbconvert_exporter": "python",
   "pygments_lexer": "ipython3",
   "version": "3.10.2"
  }
 },
 "nbformat": 4,
 "nbformat_minor": 5
}
