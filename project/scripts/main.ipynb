{
 "cells": [
  {
   "cell_type": "code",
   "execution_count": 1,
   "id": "0b619eb0",
   "metadata": {},
   "outputs": [],
   "source": [
    "# Load the .env file to ensure the API key is available\n",
    "from dotenv import load_dotenv\n",
    "load_dotenv()\n",
    "\n",
    "# Required libraries and modules\n",
    "import sys\n",
    "from pathlib import Path\n",
    "import uuid\n",
    "import asyncio\n",
    "\n",
    "# Add the project's root 'scripts' directory to the Python path\n",
    "# This allows us to import our modules like 'src'\n",
    "sys.path.insert(0, str(Path.cwd()))\n",
    "\n",
    "# Correctly import the main components from the 'src' module\n",
    "from src.main.workflow import WorkflowEngine\n",
    "from src.agents.utils import open_client\n",
    "from src.database.state_store import StateStore\n",
    "from src.main.model import LLMInterface\n",
    "\n",
    "# Create a unique session ID for this conversation\n",
    "session_id = str(uuid.uuid4())"
   ]
  },
  {
   "cell_type": "code",
   "execution_count": 2,
   "id": "bc5d352b",
   "metadata": {},
   "outputs": [
    {
     "name": "stderr",
     "output_type": "stream",
     "text": [
      "\u001b[32m2025-09-26 17:57:47.349\u001b[0m | \u001b[1mINFO    \u001b[0m | \u001b[36msrc.agents.utils\u001b[0m:\u001b[36mopen_client\u001b[0m:\u001b[36m18\u001b[0m - \u001b[1mAttempting to connect to MCP server... (max 30 seconds)\u001b[0m\n",
      "\u001b[32m2025-09-26 17:57:47.375\u001b[0m | \u001b[1mINFO    \u001b[0m | \u001b[36msrc.agents.utils\u001b[0m:\u001b[36mopen_client\u001b[0m:\u001b[36m20\u001b[0m - \u001b[1mConnection established with stdio server.\u001b[0m\n",
      "\u001b[32m2025-09-26 17:57:50.573\u001b[0m | \u001b[1mINFO    \u001b[0m | \u001b[36msrc.agents.utils\u001b[0m:\u001b[36mopen_client\u001b[0m:\u001b[36m35\u001b[0m - \u001b[1mClient session initialized successfully.\u001b[0m\n",
      "\u001b[32m2025-09-26 17:57:50.611\u001b[0m | \u001b[1mINFO    \u001b[0m | \u001b[36msrc.database.state_store\u001b[0m:\u001b[36minit_database\u001b[0m:\u001b[36m39\u001b[0m - \u001b[1mDatabase initialized at workflow_state.db\u001b[0m\n"
     ]
    },
    {
     "name": "stdout",
     "output_type": "stream",
     "text": [
      "Sistem hazır. Chatbot ile sohbete başlayabilirsiniz.\n"
     ]
    }
   ],
   "source": [
    "# MCP sunucusuna asenkron olarak bağlanıyoruz\n",
    "client = await open_client()\n",
    "\n",
    "# Dil modelini ve veritabanını hazırlıyoruz\n",
    "llm_interface = LLMInterface()\n",
    "data_store = StateStore()\n",
    "\n",
    "# Tüm parçaları birleştirerek ana iş akışı motorumuzu oluşturuyoruz\n",
    "workflow_engine = WorkflowEngine(\n",
    "    llm_interface=llm_interface, \n",
    "    client_session=client, \n",
    "    data_store=data_store, \n",
    "    session_id=session_id\n",
    ")\n",
    "\n",
    "print(\"Sistem hazır. Chatbot ile sohbete başlayabilirsiniz.\")"
   ]
  },
  {
   "cell_type": "code",
   "execution_count": null,
   "id": "51d126d9",
   "metadata": {},
   "outputs": [
    {
     "name": "stderr",
     "output_type": "stream",
     "text": [
      "\u001b[32m2025-09-26 17:57:50.658\u001b[0m | \u001b[1mINFO    \u001b[0m | \u001b[36msrc.database.state_store\u001b[0m:\u001b[36mget_session_states\u001b[0m:\u001b[36m138\u001b[0m - \u001b[1mFound 0 states for session: c08d9ee4-81d0-4247-8915-da7c3f6ee137\u001b[0m\n",
      "\u001b[32m2025-09-26 17:57:50.667\u001b[0m | \u001b[1mINFO    \u001b[0m | \u001b[36msrc.agents.agent_select_tool\u001b[0m:\u001b[36mprocess\u001b[0m:\u001b[36m22\u001b[0m - \u001b[1mProcessing in ToolSelectingAgent\u001b[0m\n"
     ]
    },
    {
     "name": "stdout",
     "output_type": "stream",
     "text": [
      "İstanbuldan Sivas'a uçmak istiyorum.\n"
     ]
    },
    {
     "name": "stderr",
     "output_type": "stream",
     "text": [
      "\u001b[32m2025-09-26 17:57:52.574\u001b[0m | \u001b[1mINFO    \u001b[0m | \u001b[36msrc.agents.agent_select_tool\u001b[0m:\u001b[36mprocess\u001b[0m:\u001b[36m37\u001b[0m - \u001b[1mLLM selected tool name: 'search_flights'\u001b[0m\n",
      "\u001b[32m2025-09-26 17:57:52.574\u001b[0m | \u001b[1mINFO    \u001b[0m | \u001b[36msrc.agents.agent_select_tool\u001b[0m:\u001b[36mprocess\u001b[0m:\u001b[36m47\u001b[0m - \u001b[1mSelected tool definition: {'name': 'search_flights', 'description': 'Search THY (Turkish Airlines) outbound flights. Based on information from user origin(s), destination(s), date(s), and passenger details to find available flights and their prices.Important: For round trips, ALWAYS call search_inbound_flights after selecting an outbound to get accurate total pricing and return options.', 'input_schema': {'type': 'object', 'properties': {'originDestinations': {'type': 'array', 'items': {'type': 'object', 'properties': {'departureDateTime': {'type': 'object', 'properties': {'departureDate': {'type': 'string', 'pattern': '^\\\\d{2}-\\\\d{2}-\\\\d{4} \\\\d{2}:\\\\d{2}$'}}, 'required': ['departureDate'], 'additionalProperties': False, 'description': 'Details of the departure date and time for this segment.'}, 'originAirportCode': {'type': 'string', 'minLength': 3, 'maxLength': 3, 'description': \"The 3-letter IATA code for the origin airport. Example: 'IST' for Istanbul Airport.\"}, 'originCountryCode': {'type': 'string', 'minLength': 2, 'maxLength': 2, 'description': \"The 2-letter ISO country code for the origin airport's country. Example: 'TR' for Turkey.\"}, 'originMultiport': {'type': 'boolean', 'default': True, 'description': 'Optional. Set to true if the origin is a city with multiple airports and any airport in that city can be used. Defaults to false. Example: true'}, 'destinationAirportCode': {'type': 'string', 'minLength': 3, 'maxLength': 3, 'description': \"The 3-letter IATA code for the destination airport. Example: 'LHR' for London Heathrow.\"}, 'destinationCountryCode': {'type': 'string', 'minLength': 2, 'maxLength': 2, 'description': \"The 2-letter ISO country code for the destination airport's country. Example: 'GB' for United Kingdom.\"}, 'destinationMultiport': {'type': 'boolean', 'default': True, 'description': 'Optional. Set to true if the destination is a city with multiple airports and any airport in that city can be used. Defaults to false. Example: true'}}, 'required': ['departureDateTime', 'originAirportCode', 'originCountryCode', 'destinationAirportCode', 'destinationCountryCode'], 'additionalProperties': False}, 'minItems': 1, 'description': \"An array defining the flight segments. For a one-way trip, this will have one item. For a round trip, it will has two items (outbound and return). For multi-city, it can have more.- For a 'round' trip, this MUST be an array with exactly TWO items (outbound and return).\"}, 'passengers': {'type': 'array', 'items': {'type': 'object', 'properties': {'passengerType': {'type': 'string', 'enum': ['ADT', 'CHD', 'INF', 'YAD', 'SRC', 'STD', 'CNS', 'STU'], 'description': \"Passenger type code. Common types: 'ADT' (Adult), 'CHD' (Child), 'INF' (Infant). Ensure to use a valid type from the allowed list.\"}, 'quantity': {'type': 'integer', 'exclusiveMinimum': 0, 'description': 'Number of passengers of this specific type. Must be a positive integer. Example: 1'}}, 'required': ['passengerType', 'quantity'], 'additionalProperties': False, 'description': 'Specifies the type and quantity of passengers.'}, 'minItems': 1, 'description': 'An array specifying the number of passengers for each type (e.g., adults, children, infants).'}, 'tripType': {'type': 'string', 'enum': ['one_way', 'round', 'multi'], 'description': \"Specifies the trip type. This choice STRICTLY determines the number of flight segments required in the 'originDestinations' array.\\n      - 'one_way': REQUIRES exactly ONE flight segment.\\n      - 'round': REQUIRES exactly TWO flight segments (outbound and return).\\n      - 'multi': REQUIRES two or more flight segments. 'round' indicates you are starting a flow for `search_inbound_flights` tool\"}, 'fareFamily': {'type': 'string'}}, 'required': ['originDestinations', 'passengers', 'tripType'], 'additionalProperties': False, '$schema': 'http://json-schema.org/draft-07/schema#'}}\u001b[0m\n",
      "\u001b[32m2025-09-26 17:57:52.582\u001b[0m | \u001b[1mINFO    \u001b[0m | \u001b[36msrc.database.state_store\u001b[0m:\u001b[36msave_state\u001b[0m:\u001b[36m64\u001b[0m - \u001b[1mState saved: 049b204a-9e8b-4abd-9228-491bf29a282f for session: c08d9ee4-81d0-4247-8915-da7c3f6ee137\u001b[0m\n",
      "\u001b[32m2025-09-26 17:57:52.595\u001b[0m | \u001b[34m\u001b[1mDEBUG   \u001b[0m | \u001b[36msrc.main.workflow\u001b[0m:\u001b[36mafter_tool_selection\u001b[0m:\u001b[36m18\u001b[0m - \u001b[34m\u001b[1mROUTER: Checking selected tool. Tool name: search_flights\u001b[0m\n",
      "\u001b[32m2025-09-26 17:57:56.351\u001b[0m | \u001b[1mINFO    \u001b[0m | \u001b[36msrc.agents.agent_input_parameter\u001b[0m:\u001b[36mprocess\u001b[0m:\u001b[36m49\u001b[0m - \u001b[1mRaw input parameters extracted from LLM: ```json\n",
      "{\n",
      "  \"originDestinations\": [\n",
      "    {\n",
      "      \"departureDateTime\": {\n",
      "        \"departureDate\": \"NaN\"\n",
      "      },\n",
      "      \"originAirportCode\": \"IST\",\n",
      "      \"originCountryCode\": \"TR\",\n",
      "      \"destinationAirportCode\": \"VAS\",\n",
      "      \"destinationCountryCode\": \"TR\"\n",
      "    }\n",
      "  ],\n",
      "  \"passengers\": [\n",
      "    {\n",
      "      \"passengerType\": \"ADT\",\n",
      "      \"quantity\": 1\n",
      "    }\n",
      "  ],\n",
      "  \"tripType\": \"one_way\",\n",
      "  \"fareFamily\": \"NaN\"\n",
      "}\n",
      "```\u001b[0m\n",
      "\u001b[32m2025-09-26 17:57:56.356\u001b[0m | \u001b[1mINFO    \u001b[0m | \u001b[36msrc.agents.agent_input_parameter\u001b[0m:\u001b[36mprocess\u001b[0m:\u001b[36m52\u001b[0m - \u001b[1mParsed input parameters: {'originDestinations': [{'departureDateTime': {'departureDate': 'null'}, 'originAirportCode': 'IST', 'originCountryCode': 'TR', 'destinationAirportCode': 'VAS', 'destinationCountryCode': 'TR'}], 'passengers': [{'passengerType': 'ADT', 'quantity': 1}], 'tripType': 'one_way', 'fareFamily': 'null'}\u001b[0m\n",
      "\u001b[32m2025-09-26 17:57:56.358\u001b[0m | \u001b[1mINFO    \u001b[0m | \u001b[36msrc.agents.agent_executing_tool\u001b[0m:\u001b[36mprocess\u001b[0m:\u001b[36m16\u001b[0m - \u001b[1mProcessing in ToolExecutingAgent\u001b[0m\n",
      "\u001b[32m2025-09-26 17:57:56.363\u001b[0m | \u001b[1mINFO    \u001b[0m | \u001b[36msrc.agents.agent_executing_tool\u001b[0m:\u001b[36mprocess\u001b[0m:\u001b[36m27\u001b[0m - \u001b[1mExecuting tool 'search_flights' with inputs: {'originDestinations': [{'departureDateTime': {'departureDate': 'null'}, 'originAirportCode': 'IST', 'originCountryCode': 'TR', 'destinationAirportCode': 'VAS', 'destinationCountryCode': 'TR'}], 'passengers': [{'passengerType': 'ADT', 'quantity': 1}], 'tripType': 'one_way', 'fareFamily': 'null'}\u001b[0m\n",
      "\u001b[32m2025-09-26 17:57:56.969\u001b[0m | \u001b[31m\u001b[1mERROR   \u001b[0m | \u001b[36msrc.agents.utils\u001b[0m:\u001b[36mexecute_tool_with_params\u001b[0m:\u001b[36m144\u001b[0m - \u001b[31m\u001b[1mException during tool execution: MCP error -32602: Invalid arguments for tool search_flights: [\n",
      "  {\n",
      "    \"validation\": \"regex\",\n",
      "    \"code\": \"invalid_string\",\n",
      "    \"message\": \"Departure date must be in DD-MM-YYYY HH:mm format (e.g., 25-12-2024 14:30)\",\n",
      "    \"path\": [\n",
      "      \"originDestinations\",\n",
      "      0,\n",
      "      \"departureDateTime\",\n",
      "      \"departureDate\"\n",
      "    ]\n",
      "  }\n",
      "]\u001b[0m\n",
      "\u001b[32m2025-09-26 17:57:56.969\u001b[0m | \u001b[1mINFO    \u001b[0m | \u001b[36msrc.agents.agent_executing_tool\u001b[0m:\u001b[36mprocess\u001b[0m:\u001b[36m34\u001b[0m - \u001b[1mExecuted tool search_flights with result: {'error': 'execution_exception', 'message': 'MCP error -32602: Invalid arguments for tool search_flights: [\\n  {\\n    \"validation\": \"regex\",\\n    \"code\": \"invalid_string\",\\n    \"message\": \"Departure date must be in DD-MM-YYYY HH:mm format (e.g., 25-12-2024 14:30)\",\\n    \"path\": [\\n      \"originDestinations\",\\n      0,\\n      \"departureDateTime\",\\n      \"departureDate\"\\n    ]\\n  }\\n]'}\u001b[0m\n",
      "\u001b[32m2025-09-26 17:57:56.991\u001b[0m | \u001b[1mINFO    \u001b[0m | \u001b[36msrc.database.state_store\u001b[0m:\u001b[36msave_state\u001b[0m:\u001b[36m64\u001b[0m - \u001b[1mState saved: e196ac55-5dad-43ef-950b-511877b368bb for session: c08d9ee4-81d0-4247-8915-da7c3f6ee137\u001b[0m\n",
      "\u001b[32m2025-09-26 17:57:59.038\u001b[0m | \u001b[1mINFO    \u001b[0m | \u001b[36msrc.agents.agent_output_generation\u001b[0m:\u001b[36mprocess\u001b[0m:\u001b[36m27\u001b[0m - \u001b[1mGenerated final answer: İstanbul'dan Sivas'a uçuş bulabilirim. Seyahat etmek istediğiniz tarihi alabilir miyim?\u001b[0m\n",
      "\u001b[32m2025-09-26 17:57:59.059\u001b[0m | \u001b[1mINFO    \u001b[0m | \u001b[36msrc.database.state_store\u001b[0m:\u001b[36msave_state\u001b[0m:\u001b[36m64\u001b[0m - \u001b[1mState saved: 126892dd-2825-4f3f-910e-78b167700ee1 for session: c08d9ee4-81d0-4247-8915-da7c3f6ee137\u001b[0m\n"
     ]
    },
    {
     "name": "stdout",
     "output_type": "stream",
     "text": [
      "Chatbot: None\n"
     ]
    }
   ],
   "source": [
    "print(\"İstanbuldan Sivas'a uçmak istiyorum.\")\n",
    "result2 = await workflow_engine.process(\"istanbuldan Sivas'a uçmak istiyorum.\")\n",
    "print('Result2 keys:', list(result2.keys()))    \n",
    "print(f\"Chatbot: {result2.get('answer')}\")"
   ]
  }
 ],
 "metadata": {
  "kernelspec": {
   "display_name": "project_env",
   "language": "python",
   "name": "python3"
  },
  "language_info": {
   "codemirror_mode": {
    "name": "ipython",
    "version": 3
   },
   "file_extension": ".py",
   "mimetype": "text/x-python",
   "name": "python",
   "nbconvert_exporter": "python",
   "pygments_lexer": "ipython3",
   "version": "3.10.2"
  }
 },
 "nbformat": 4,
 "nbformat_minor": 5
}
